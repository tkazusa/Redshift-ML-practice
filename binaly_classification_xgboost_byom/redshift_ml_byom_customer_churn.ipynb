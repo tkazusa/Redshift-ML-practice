{
 "cells": [
  {
   "cell_type": "markdown",
   "id": "82bd315d",
   "metadata": {},
   "source": [
    "### 準備"
   ]
  },
  {
   "cell_type": "code",
   "execution_count": null,
   "id": "56fc845f",
   "metadata": {},
   "outputs": [],
   "source": [
    "import boto3\n",
    "import pandas as pd\n",
    "import sagemaker\n",
    "from sagemaker import get_execution_role\n",
    "from sagemaker.inputs import TrainingInput\n",
    "\n",
    "role = get_execution_role()"
   ]
  },
  {
   "cell_type": "markdown",
   "id": "d885b63c",
   "metadata": {},
   "source": [
    "### データの準備"
   ]
  },
  {
   "cell_type": "code",
   "execution_count": null,
   "id": "bf57eb46",
   "metadata": {},
   "outputs": [],
   "source": [
    "!aws s3 cp s3://redshift-downloads/redshift-ml/customer_activity/customer_activity.csv s3://20211117-redshiftml/redshift-ml/customer_churn/customer_activity.csv"
   ]
  },
  {
   "cell_type": "code",
   "execution_count": null,
   "id": "615e1cd3",
   "metadata": {},
   "outputs": [],
   "source": [
    "data= pd.read_csv('s3://20211117-redshiftml/redshift-ml/customer_churn/customer_activity.csv')\n",
    "model_data = data[['Churn?', 'Day Charge', 'Eve Charge', 'Night Charge', 'Intl Charge']]\n",
    "# model_data = data.drop(['Day Charge', 'Eve Charge', 'Night Charge', 'Intl Charge', 'Record Date'], axis=1)\n",
    "model_data = pd.get_dummies(model_data)\n",
    "model_data = pd.concat([model_data['Churn?_True.'], model_data.drop(['Churn?_False.', 'Churn?_True.'], axis=1)], axis=1)\n",
    "model_data.head()"
   ]
  },
  {
   "cell_type": "code",
   "execution_count": null,
   "id": "9b5149a8",
   "metadata": {},
   "outputs": [],
   "source": [
    "train_data, validation_data, test_data = np.split(model_data.sample(frac=1, random_state=1729), [int(0.7 * len(model_data)), int(0.9 * len(model_data))])\n",
    "train_data.to_csv('train.csv', header=False, index=False)\n",
    "validation_data.to_csv('validation.csv', header=False, index=False)\n",
    "\n",
    "sagemaker_session = sagemaker.Session()\n",
    "input_train = sagemaker_session.upload_data(path='train.csv', bucket='20211117-redshiftml', key_prefix='redshift-ml/customer_churn_train')\n",
    "input_validation = sagemaker_session.upload_data(path='validation.csv', bucket='20211117-redshiftml', key_prefix='redshift-ml/customer_churn_validation')\n",
    "\n",
    "content_type='text/csv'\n",
    "s3_input_train = TrainingInput(input_train, content_type=content_type)\n",
    "s3_input_validation = TrainingInput(input_validation, content_type=content_type)"
   ]
  },
  {
   "cell_type": "code",
   "execution_count": null,
   "id": "5d90a287",
   "metadata": {},
   "outputs": [],
   "source": [
    "print('学習用データの格納先: ' ,input_train)"
   ]
  },
  {
   "cell_type": "markdown",
   "id": "9adf2526",
   "metadata": {},
   "source": [
    "### XGBoost の学習"
   ]
  },
  {
   "cell_type": "code",
   "execution_count": null,
   "id": "fb358020",
   "metadata": {},
   "outputs": [],
   "source": [
    "container = sagemaker.image_uris.retrieve(\"xgboost\", boto3.Session().region_name, \"1.2-1\")\n",
    "sess = sagemaker.Session()\n",
    "\n",
    "hyperparameters = {\"max_depth\":\"5\",\n",
    "                        \"eta\":\"0.2\",\n",
    "                        \"gamma\":\"4\",\n",
    "                        \"min_child_weight\":\"6\",\n",
    "                        \"subsample\":\"0.8\",\n",
    "                        \"objective\":\"binary:logistic\",\n",
    "                        \"num_round\":\"100\"}\n",
    "\n",
    "xgb = sagemaker.estimator.Estimator(container,\n",
    "                                    role, \n",
    "                                    hyperparameters=hyperparameters,\n",
    "                                    instance_count=1, \n",
    "                                    instance_type='ml.m4.xlarge',\n",
    "                                    sagemaker_session=sess)\n",
    "\n",
    "xgb.fit({'train': s3_input_train, 'validation': s3_input_validation}) "
   ]
  },
  {
   "cell_type": "markdown",
   "id": "2508f40c",
   "metadata": {},
   "source": [
    "### 推論用エンドポイントの準備"
   ]
  },
  {
   "cell_type": "code",
   "execution_count": null,
   "id": "5a666468",
   "metadata": {},
   "outputs": [],
   "source": [
    "xgb_predictor = xgb.deploy(initial_instance_count = 1, instance_type = 'ml.m4.xlarge')"
   ]
  },
  {
   "cell_type": "code",
   "execution_count": null,
   "id": "992e901b",
   "metadata": {},
   "outputs": [],
   "source": []
  }
 ],
 "metadata": {
  "kernelspec": {
   "display_name": "conda_python3",
   "language": "python",
   "name": "conda_python3"
  },
  "language_info": {
   "codemirror_mode": {
    "name": "ipython",
    "version": 3
   },
   "file_extension": ".py",
   "mimetype": "text/x-python",
   "name": "python",
   "nbconvert_exporter": "python",
   "pygments_lexer": "ipython3",
   "version": "3.6.13"
  }
 },
 "nbformat": 4,
 "nbformat_minor": 5
}
