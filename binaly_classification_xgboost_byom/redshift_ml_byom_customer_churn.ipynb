{
 "cells": [
  {
   "cell_type": "code",
   "execution_count": null,
   "id": "6773c592",
   "metadata": {},
   "outputs": [],
   "source": [
    "import boto3\n",
    "import pandas as pd\n",
    "import sagemaker\n",
    "from sagemaker import get_execution_role\n",
    "from sagemaker.inputs import TrainingInput\n",
    "\n",
    "role = get_execution_role()"
   ]
  },
  {
   "cell_type": "code",
   "execution_count": null,
   "id": "a23ada07",
   "metadata": {},
   "outputs": [],
   "source": [
    "!aws s3 cp s3://redshift-downloads/redshift-ml/customer_activity/customer_activity.csv s3://20211117-redshiftml/redshift-ml/customer_churn/customer_activity.csv"
   ]
  },
  {
   "cell_type": "code",
   "execution_count": null,
   "id": "40ff33f2",
   "metadata": {},
   "outputs": [],
   "source": [
    "data= pd.read_csv('s3://20211117-redshiftml/redshift-ml/customer_churn/customer_activity.csv')\n",
    "model_data = data[['Churn?', 'Day Charge', 'Eve Charge', 'Night Charge', 'Intl Charge']]\n",
    "# model_data = data.drop(['Day Charge', 'Eve Charge', 'Night Charge', 'Intl Charge', 'Record Date'], axis=1)\n",
    "model_data = pd.get_dummies(model_data)\n",
    "model_data = pd.concat([model_data['Churn?_True.'], model_data.drop(['Churn?_False.', 'Churn?_True.'], axis=1)], axis=1)\n",
    "model_data.head()"
   ]
  },
  {
   "cell_type": "code",
   "execution_count": null,
   "id": "6e8d510a",
   "metadata": {},
   "outputs": [],
   "source": [
    "train_data, validation_data, test_data = np.split(model_data.sample(frac=1, random_state=1729), [int(0.7 * len(model_data)), int(0.9 * len(model_data))])\n",
    "train_data.to_csv('train.csv', header=False, index=False)\n",
    "validation_data.to_csv('validation.csv', header=False, index=False)\n",
    "\n",
    "sagemaker_session = sagemaker.Session()\n",
    "input_train = sagemaker_session.upload_data(path='train.csv', bucket='20211117-redshiftml', key_prefix='redshift-ml/customer_churn_train')\n",
    "input_validation = sagemaker_session.upload_data(path='validation.csv', bucket='20211117-redshiftml', key_prefix='redshift-ml/customer_churn_validation')\n",
    "\n",
    "content_type='text/csv'\n",
    "s3_input_train = TrainingInput(input_train, content_type=content_type)\n",
    "s3_input_validation = TrainingInput(input_validation, content_type=content_type)"
   ]
  },
  {
   "cell_type": "code",
   "execution_count": null,
   "id": "0e7605f2",
   "metadata": {},
   "outputs": [],
   "source": [
    "print('学習用データの格納先: ' ,input_train)"
   ]
  },
  {
   "cell_type": "markdown",
   "id": "edafd92d",
   "metadata": {},
   "source": [
    "### XGBoost の学習"
   ]
  },
  {
   "cell_type": "code",
   "execution_count": null,
   "id": "0e8c8a3e",
   "metadata": {},
   "outputs": [],
   "source": [
    "container = sagemaker.image_uris.retrieve(\"xgboost\", boto3.Session().region_name, \"1.2-1\")\n",
    "sess = sagemaker.Session()\n",
    "\n",
    "hyperparameters = {\"max_depth\":\"5\",\n",
    "                        \"eta\":\"0.2\",\n",
    "                        \"gamma\":\"4\",\n",
    "                        \"min_child_weight\":\"6\",\n",
    "                        \"subsample\":\"0.8\",\n",
    "                        \"objective\":\"binary:logistic\",\n",
    "                        \"num_round\":\"100\"}\n",
    "\n",
    "xgb = sagemaker.estimator.Estimator(container,\n",
    "                                    role, \n",
    "                                    hyperparameters=hyperparameters,\n",
    "                                    instance_count=1, \n",
    "                                    instance_type='ml.m4.xlarge',\n",
    "                                    sagemaker_session=sess)\n",
    "\n",
    "xgb.fit({'train': s3_input_train, 'validation': s3_input_validation}) "
   ]
  },
  {
   "cell_type": "markdown",
   "id": "75011d34",
   "metadata": {},
   "source": [
    "### 推論用エンドポイントの準備"
   ]
  },
  {
   "cell_type": "code",
   "execution_count": null,
   "id": "2c530b77",
   "metadata": {},
   "outputs": [],
   "source": [
    "xgb_predictor = xgb.deploy(initial_instance_count = 1, instance_type = 'ml.m4.xlarge')"
   ]
  },
  {
   "cell_type": "code",
   "execution_count": 50,
   "id": "cf1628a6",
   "metadata": {},
   "outputs": [
    {
     "ename": "SyntaxError",
     "evalue": "invalid syntax (<ipython-input-50-1d8c937e50d9>, line 1)",
     "output_type": "error",
     "traceback": [
      "\u001b[0;36m  File \u001b[0;32m\"<ipython-input-50-1d8c937e50d9>\"\u001b[0;36m, line \u001b[0;32m1\u001b[0m\n\u001b[0;31m    DROP TABLE IF EXISTS customer_churn_xgb;\u001b[0m\n\u001b[0m             ^\u001b[0m\n\u001b[0;31mSyntaxError\u001b[0m\u001b[0;31m:\u001b[0m invalid syntax\n"
     ]
    }
   ],
   "source": []
  },
  {
   "cell_type": "code",
   "execution_count": null,
   "id": "0d2084dc",
   "metadata": {},
   "outputs": [],
   "source": [
    "ローカル推論"
   ]
  },
  {
   "cell_type": "code",
   "execution_count": null,
   "id": "85511196",
   "metadata": {},
   "outputs": [],
   "source": [
    "CREATE MODEL customer_churn\n",
    "FROM 'sagemaker-xgboost-2021-12-01-05-41-01-585'\n",
    "FUNCTION customer_churn_predict (float, float, float, float)\n",
    "RETURNS float\n",
    "IAM_ROLE 'arn:aws:iam::815969174475:role/RedshiftML'\n",
    "SETTINGS (S3_BUCKET '20211117-redshiftml');"
   ]
  },
  {
   "cell_type": "code",
   "execution_count": null,
   "id": "a2fcab08",
   "metadata": {},
   "outputs": [],
   "source": [
    "### リモート推論\n",
    "モデルを作成する"
   ]
  },
  {
   "cell_type": "code",
   "execution_count": null,
   "id": "16a3843a",
   "metadata": {},
   "outputs": [],
   "source": [
    "DROP MODEL IF EXISTS remote_customer_churn;\n",
    "CREATE MODEL remote_customer_churn\n",
    "FUNCTION remote_fn_customer_churn_predict (float, float, float, float)\n",
    "RETURNS float\n",
    "SAGEMAKER 'sagemaker-xgboost-2021-12-01-05-52-40-586'\n",
    "IAM_ROLE 'arn:aws:iam::815969174475:role/RedshiftML';"
   ]
  },
  {
   "cell_type": "markdown",
   "id": "4c46af50",
   "metadata": {},
   "source": [
    "推論をリクエストする"
   ]
  },
  {
   "cell_type": "code",
   "execution_count": null,
   "id": "28beef1b",
   "metadata": {},
   "outputs": [],
   "source": [
    "DROP TABLE IF EXISTS customer_churn_xgb;\n",
    "CREATE TABLE customer_churn_xgb (\n",
    "churn int,\n",
    "day_charge float, \n",
    "eve_charge float,\n",
    "night_charge float,\n",
    "intl_charge float);\n",
    "\n",
    "COPY customer_churn_xgb\n",
    "FROM 's3://20211117-redshiftml/redshift-ml/customer_churn_validation/'\n",
    "IAM_ROLE 'arn:aws:iam::815969174475:role/RedshiftML' IGNOREHEADER 1 CSV;\n",
    "\n",
    "DROP MODEL IF EXISTS remote_customer_churn;\n",
    "CREATE MODEL remote_customer_churn\n",
    "FUNCTION remote_fn_customer_churn_predict (float, float, float, float)\n",
    "RETURNS float\n",
    "SAGEMAKER 'sagemaker-xgboost-2021-12-01-05-52-40-586'\n",
    "IAM_ROLE 'arn:aws:iam::815969174475:role/RedshiftML';\n",
    "\n",
    "SELECT remote_fn_customer_churn_predict(\n",
    "day_charge, \n",
    "eve_charge,\n",
    "night_charge,\n",
    "intl_charge);) AS churn_proba \n",
    "FROM customer_churn_xgb "
   ]
  },
  {
   "cell_type": "code",
   "execution_count": null,
   "id": "8e08f658",
   "metadata": {},
   "outputs": [],
   "source": [
    "select demo_ml.remote_fn_customer_churn_predict(\n",
    " customer_churn_xgb.day_charge, \n",
    "eve_charge,\n",
    "night_charge,\n",
    "intl_charge);) as churn_proba \n",
    "from demo_ml.customer_churn_xgb "
   ]
  }
 ],
 "metadata": {
  "kernelspec": {
   "display_name": "conda_python3",
   "language": "python",
   "name": "conda_python3"
  },
  "language_info": {
   "codemirror_mode": {
    "name": "ipython",
    "version": 3
   },
   "file_extension": ".py",
   "mimetype": "text/x-python",
   "name": "python",
   "nbconvert_exporter": "python",
   "pygments_lexer": "ipython3",
   "version": "3.6.13"
  }
 },
 "nbformat": 4,
 "nbformat_minor": 5
}
